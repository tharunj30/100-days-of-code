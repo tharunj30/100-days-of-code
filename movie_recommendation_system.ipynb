{
  "nbformat": 4,
  "nbformat_minor": 0,
  "metadata": {
    "colab": {
      "private_outputs": true,
      "provenance": [],
      "authorship_tag": "ABX9TyNIWNilZ6eGvM8rWPKe/aK3",
      "include_colab_link": true
    },
    "kernelspec": {
      "name": "python3",
      "display_name": "Python 3"
    },
    "language_info": {
      "name": "python"
    }
  },
  "cells": [
    {
      "cell_type": "markdown",
      "metadata": {
        "id": "view-in-github",
        "colab_type": "text"
      },
      "source": [
        "<a href=\"https://colab.research.google.com/github/tharunj-droid/100-days-of-code/blob/main/movie_recommendation_system.ipynb\" target=\"_parent\"><img src=\"https://colab.research.google.com/assets/colab-badge.svg\" alt=\"Open In Colab\"/></a>"
      ]
    },
    {
      "cell_type": "code",
      "execution_count": null,
      "metadata": {
        "id": "GglfUknIG7sa"
      },
      "outputs": [],
      "source": []
    },
    {
      "cell_type": "code",
      "source": [
        "from google.colab import drive\n",
        "drive.mount('/content/drive')"
      ],
      "metadata": {
        "id": "8v5ajdZDJMrN"
      },
      "execution_count": null,
      "outputs": []
    },
    {
      "cell_type": "markdown",
      "source": [
        "The code imports necessary libraries for data analysis and text analysis.\n",
        "The TfidfVectorizer function is used to convert raw text documents into a matrix of TF-IDF features.\n",
        "The linear_kernel function is used to compute cosine similarities between vectors of these features.\n",
        "The pairwise_distances function is used to calculate pairwise distances between the vectors.\n",
        "This code is likely being used to find similar documents or articles based on their content.\n",
        "It's important to understand the context and goals of the larger data analysis project in order to fully understand what this code is doing."
      ],
      "metadata": {
        "id": "83y7zkYD4GGj"
      }
    },
    {
      "cell_type": "markdown",
      "source": [],
      "metadata": {
        "id": "joQ8QOXf4E1Z"
      }
    },
    {
      "cell_type": "code",
      "source": [
        "import pandas as pd\n",
        "import numpy as np\n",
        "import matplotlib.pyplot as plt\n",
        "import seaborn as sns\n",
        "from sklearn.feature_extraction.text import TfidfVectorizer\n",
        "from sklearn.metrics.pairwise import linear_kernel\n",
        "from sklearn.metrics.pairwise import pairwise_distances"
      ],
      "metadata": {
        "id": "DKl3_NI-KENm"
      },
      "execution_count": null,
      "outputs": []
    },
    {
      "cell_type": "code",
      "source": [
        "movies_df = pd.read_csv(\"/content/movies.csv\")\n",
        "rating_df = pd.read_csv(\"/content/ratings.csv\")"
      ],
      "metadata": {
        "id": "ce4ByO2wKFHO"
      },
      "execution_count": null,
      "outputs": []
    },
    {
      "cell_type": "markdown",
      "source": [
        "movies_df.head() is a method used to display the first few rows of a dataframe called movies_df. Specifically, it displays the first 5 rows by default unless a different number is specified in the parentheses."
      ],
      "metadata": {
        "id": "xB3fyIBu4ZII"
      }
    },
    {
      "cell_type": "code",
      "source": [
        "movies_df.head()"
      ],
      "metadata": {
        "id": "JvWasPBlKL6r"
      },
      "execution_count": null,
      "outputs": []
    },
    {
      "cell_type": "markdown",
      "source": [
        "this code creates a bar chart showing the most popular genres of movies released. It does this by creating a list of genres for each movie, counting the number of movies in each genre, and creating a bar chart based on the genre counts."
      ],
      "metadata": {
        "id": "AiQLBnFF4lmP"
      }
    },
    {
      "cell_type": "code",
      "source": [
        "#Most popular genres of movie released\n",
        "plt.figure(figsize=(20,7))\n",
        "generlist = movies_df['genres'].apply(lambda generlist_movie : str(generlist_movie).split(\"|\"))\n",
        "geners_count = {}\n",
        "\n",
        "for generlist_movie in generlist:\n",
        "    for gener in generlist_movie:\n",
        "        if(geners_count.get(gener,False)):\n",
        "            geners_count[gener]=geners_count[gener]+1\n",
        "        else:\n",
        "            geners_count[gener] = 1       \n",
        "geners_count.pop(\"(no genres listed)\")\n",
        "plt.bar(geners_count.keys(),geners_count.values())"
      ],
      "metadata": {
        "id": "ViAV1d27M69-"
      },
      "execution_count": null,
      "outputs": []
    },
    {
      "cell_type": "markdown",
      "source": [
        "this code creates a histogram of the distribution of user ratings for movies, showing how often each rating value occurs in the dataset."
      ],
      "metadata": {
        "id": "WsY22_Gv4oD6"
      }
    },
    {
      "cell_type": "code",
      "source": [
        "#Distribution of users rating\n",
        "sns.distplot(rating_df[\"rating\"])"
      ],
      "metadata": {
        "id": "Ev9Pa8mtNEm-"
      },
      "execution_count": null,
      "outputs": []
    },
    {
      "cell_type": "markdown",
      "source": [
        " this code prints out the number of rows and columns in the rating_df and movies_df dataframes to the console, with the output separated by a new line and labeled to indicate which dataframe each set of values corresponds to."
      ],
      "metadata": {
        "id": "NLXwnkVQ47Dy"
      }
    },
    {
      "cell_type": "code",
      "source": [
        "print(\"Shape of frames: \\n\"+ \" Rating DataFrame\"+ str(rating_df.shape)+\"\\n Movies DataFrame\"+ str(movies_df.shape))"
      ],
      "metadata": {
        "id": "z0dZBeZPNKIt"
      },
      "execution_count": null,
      "outputs": []
    },
    {
      "cell_type": "markdown",
      "source": [
        "this code merges the movies_df and rating_df dataframes into a new dataframe called merge_ratings_movies, using an inner join to match rows based on the \"movieId\" column. The resulting dataframe contains all columns from both input dataframes."
      ],
      "metadata": {
        "id": "PJosVgJN49Xd"
      }
    },
    {
      "cell_type": "code",
      "source": [
        "merge_ratings_movies = pd.merge(movies_df, rating_df, on='movieId', how='inner')"
      ],
      "metadata": {
        "id": "_KonAPDkNMQP"
      },
      "execution_count": null,
      "outputs": []
    },
    {
      "cell_type": "markdown",
      "source": [
        "code displays the first two rows of the merge_ratings_movies dataframe that was created by merging the movies_df and rating_df dataframes based on the \"movieId\" column."
      ],
      "metadata": {
        "id": "yYJ_Vx0C5H1C"
      }
    },
    {
      "cell_type": "code",
      "source": [
        "merge_ratings_movies.head(2)"
      ],
      "metadata": {
        "id": "nA9EcN94NPSl"
      },
      "execution_count": null,
      "outputs": []
    },
    {
      "cell_type": "markdown",
      "source": [
        " this code drops the \"timestamp\" column from the merge_ratings_movies dataframe and prints the resulting shape of the dataframe to show how many rows and columns are left."
      ],
      "metadata": {
        "id": "5q-DfG3N5W3A"
      }
    },
    {
      "cell_type": "code",
      "source": [
        "merge_ratings_movies = merge_ratings_movies.drop('timestamp', axis=1)\n",
        "merge_ratings_movies.shape"
      ],
      "metadata": {
        "id": "Fs2uO4nHNR-t"
      },
      "execution_count": null,
      "outputs": []
    },
    {
      "cell_type": "markdown",
      "source": [
        "code groups the merge_ratings_movies dataframe by \"userId\" and calculates the size and mean of each group for each column. The resulting ratings_grouped_by_users dataframe displays the size and mean of each group for each column, including \"movieId\" and \"rating\""
      ],
      "metadata": {
        "id": "nsN8fuMm54wn"
      }
    },
    {
      "cell_type": "code",
      "source": [
        "#Grouping the rating based on user\n",
        "ratings_grouped_by_users = merge_ratings_movies.groupby('userId').agg([np.size, np.mean])\n",
        "ratings_grouped_by_users.head(2)"
      ],
      "metadata": {
        "id": "VNdSRoO6NTdN"
      },
      "execution_count": null,
      "outputs": []
    },
    {
      "cell_type": "markdown",
      "source": [
        "this code drops the \"movieId\" column from the ratings_grouped_by_users dataframe and saves the result back to the same variable. The resulting ratings_grouped_by_users dataframe displays the size and mean of each group for only the \"rating\" column."
      ],
      "metadata": {
        "id": "sSVx-YwJ6Dcy"
      }
    },
    {
      "cell_type": "code",
      "source": [
        "ratings_grouped_by_users = ratings_grouped_by_users.drop('movieId', axis = 1)"
      ],
      "metadata": {
        "id": "zqCQM34DNVhS"
      },
      "execution_count": null,
      "outputs": []
    },
    {
      "cell_type": "markdown",
      "source": [
        ", this code groups the merge_ratings_movies dataframe by \"movieId\" and calculates the mean and size of each group for each column. The resulting ratings_grouped_by_movies dataframe displays the mean and size of each group for each column, including \"userId\" and \"rating\". The \"userId\" column is then removed from the ratings_grouped_by_movies dataframe."
      ],
      "metadata": {
        "id": "ELd7FU1F6Tk3"
      }
    },
    {
      "cell_type": "code",
      "source": [
        "ratings_grouped_by_movies = merge_ratings_movies.groupby('movieId').agg([np.mean], np.size)\n",
        "ratings_grouped_by_movies.shape\n",
        "ratings_grouped_by_movies.head(3)\n",
        "ratings_grouped_by_movies = ratings_grouped_by_movies.drop('userId', axis=1)"
      ],
      "metadata": {
        "id": "-YyNqPluNXXm"
      },
      "execution_count": null,
      "outputs": []
    },
    {
      "cell_type": "markdown",
      "source": [
        ", this code generates a horizontal bar chart that displays the top 10 movies with the highest average rating. The chart shows the movie titles on the y-axis and the average rating on the x-axis."
      ],
      "metadata": {
        "id": "G2AlrxD16vjA"
      }
    },
    {
      "cell_type": "code",
      "source": [
        "#Movies with high average rating\n",
        "ratings_grouped_by_movies['rating']['mean'].sort_values(ascending=False).head(10).plot(kind='barh', figsize=(7,6));"
      ],
      "metadata": {
        "id": "s3fDHjGGNZXS"
      },
      "execution_count": null,
      "outputs": []
    },
    {
      "cell_type": "markdown",
      "source": [
        "this code filters and selects the movies with an average rating below 1.5, and then generates a horizontal bar chart displaying the top 20 movies with the lowest average rating. The chart shows the movie titles on the y-axis and the average rating on the x-axis. The code also displays the first 5 rows of the low_rated_movies dataframe, which contains the movie titles and their corresponding mean rating."
      ],
      "metadata": {
        "id": "mlUlCUna60tN"
      }
    },
    {
      "cell_type": "code",
      "source": [
        "#Movies with low average rating\n",
        "low_rated_movies_filter = ratings_grouped_by_movies['rating']['mean']< 1.5\n",
        "low_rated_movies = ratings_grouped_by_movies[low_rated_movies_filter]\n",
        "low_rated_movies.head(20).plot(kind='barh', figsize=(7,5))\n",
        "low_rated_movies.head(5)"
      ],
      "metadata": {
        "id": "7-qwdI_RNfEQ"
      },
      "execution_count": null,
      "outputs": []
    },
    {
      "cell_type": "markdown",
      "source": [
        "Content-based filtering"
      ],
      "metadata": {
        "id": "vjjMzusQNiUG"
      }
    },
    {
      "cell_type": "markdown",
      "source": [],
      "metadata": {
        "id": "r9v9vAgZ663d"
      }
    },
    {
      "cell_type": "markdown",
      "source": [
        "this code creates a matrix of cosine similarity scores between the genres of the movies using the TfidfVectorizer and linear_kernel functions from the scikit-learn library. The resulting cosine_sim_movies matrix contains the cosine similarity scores between each pair of movies based on their genres."
      ],
      "metadata": {
        "id": "CA7IuWHh7DNO"
      }
    },
    {
      "cell_type": "code",
      "source": [
        "tfidf_movies_genres = TfidfVectorizer(token_pattern = '[a-zA-Z0-9\\-]+')\n",
        "\n",
        "movies_df['genres'] = movies_df['genres'].replace(to_replace=\"(no genres listed)\", value=\"\")\n",
        "\n",
        "tfidf_movies_genres_matrix = tfidf_movies_genres.fit_transform(movies_df['genres'])\n",
        "\n",
        "cosine_sim_movies = linear_kernel(tfidf_movies_genres_matrix, tfidf_movies_genres_matrix)"
      ],
      "metadata": {
        "id": "140kCyKlNkwa"
      },
      "execution_count": null,
      "outputs": []
    },
    {
      "cell_type": "markdown",
      "source": [
        "The function get_recommendations_based_on_genres() takes in a movie title and returns two recommended movies based on their genre similarity, using a pre-calculated cosine similarity matrix. The function first identifies the index of the movie, then uses the cosine similarity scores to find the two movies with the highest similarity scores that are not the same as the input movie. The function has potential limitations in that it only considers genre similarity, may not provide enough recommendations, and relies on a pre-calculated matrix that could become outdated. To improve the function, additional factors could be considered, more recommendations could be provided, and dynamic calculations could be used instead of pre-calculated matrices."
      ],
      "metadata": {
        "id": "lB3505wQ7D9y"
      }
    },
    {
      "cell_type": "code",
      "source": [
        "def get_recommendations_based_on_genres(movie_title, cosine_sim_movies=cosine_sim_movies):\n",
        "    idx_movie = movies_df.loc[movies_df['title'].isin([movie_title])]\n",
        "    idx_movie = idx_movie.index\n",
        "    \n",
        "    sim_scores_movies = list(enumerate(cosine_sim_movies[idx_movie][0]))\n",
        "    \n",
        "    sim_scores_movies = sorted(sim_scores_movies, key=lambda x: x[1], reverse=True)\n",
        "\n",
        "    sim_scores_movies = sim_scores_movies[1:3]\n",
        "\n",
        "    movie_indices = [i[0] for i in sim_scores_movies]\n",
        "    \n",
        "    return movies_df['title'].iloc[movie_indices]"
      ],
      "metadata": {
        "id": "-9KD5DYTNnS2"
      },
      "execution_count": null,
      "outputs": []
    },
    {
      "cell_type": "markdown",
      "source": [
        " the get_recommendations_based_on_genres() function takes a movie title as input, computes the cosine similarity scores between this movie and all other movies based on their genres using the cosine_sim_movies matrix, and returns a list of top recommended movies based on the similarity scores"
      ],
      "metadata": {
        "id": "lYq1KAzr7Pbj"
      }
    },
    {
      "cell_type": "code",
      "source": [
        "get_recommendations_based_on_genres(\"Father of the Bride Part II (1995)\")"
      ],
      "metadata": {
        "id": "YFaP60EhNo7L"
      },
      "execution_count": null,
      "outputs": []
    },
    {
      "cell_type": "markdown",
      "source": [
        "The function get_recommendation_content_model takes in a user ID as input and returns a set of recommended movies based on the content of the movies the user has already rated.\n",
        "\n",
        "First, the function filters the rating dataframe to only include the rows for the specified user ID. Then, it creates a list of all the movies that the user has already rated by iterating over the filtered rating dataframe and extracting the corresponding movie titles from the movies dataframe.\n",
        "\n",
        "Next, the function loops through each movie in the user's rated movie list and calls the get_recommendations_based_on_genres function to get a list of recommended movies based on the genres of the rated movie. These recommended movies are added to a separate list called recommended_movie_list.\n",
        "\n",
        "Finally, the function removes any recommended movies that the user has already rated and returns the set of remaining recommended movies"
      ],
      "metadata": {
        "id": "LHnR30qS7b4e"
      }
    },
    {
      "cell_type": "code",
      "source": [
        "def get_recommendation_content_model(userId):\n",
        "    recommended_movie_list = []\n",
        "    movie_list = []\n",
        "    df_rating_filtered = rating_df[rating_df[\"userId\"]== userId]\n",
        "    for key, row in df_rating_filtered.iterrows():\n",
        "        movie_list.append((movies_df[\"title\"][row[\"movieId\"]==movies_df[\"movieId\"]]).values) \n",
        "    for index, movie in enumerate(movie_list):\n",
        "        for key, movie_recommended in get_recommendations_based_on_genres(movie[0]).iteritems():\n",
        "            recommended_movie_list.append(movie_recommended)\n",
        "            \n",
        "    for movie_title in recommended_movie_list:\n",
        "        if movie_title in movie_list:\n",
        "            recommended_movie_list.remove(movie_title)\n",
        "    \n",
        "    return set(recommended_movie_list)\n",
        "get_recommendation_content_model(1)"
      ],
      "metadata": {
        "id": "BCYcJtNKNr5n"
      },
      "execution_count": null,
      "outputs": []
    },
    {
      "cell_type": "markdown",
      "source": [
        "The `get_movie_label` function takes a movie id as input and uses K-Nearest Neighbors algorithm to find the cluster label to which the movie belongs based on its genre. It does this by training a classifier using the TF-IDF matrix of the movie genres and the corresponding genre labels from the movies dataframe. The `n_neighbors` parameter of the `KNeighborsClassifier` is set to 5. Once the classifier is trained, it is used to predict the genre label of the movie represented by the input `movie_id`. The predicted label is returned as output."
      ],
      "metadata": {
        "id": "i2OZuC-v7lCT"
      }
    },
    {
      "cell_type": "code",
      "source": [
        "from sklearn.neighbors import KNeighborsClassifier  \n",
        "def get_movie_label(movie_id):\n",
        "    \"\"\"\n",
        "    Get the cluster label to which movie belongs by KNN algorithm.  \n",
        "    :param movie_id: movie id\n",
        "    :return: genres label to movie belong\n",
        "    \"\"\"\n",
        "    classifier = KNeighborsClassifier(n_neighbors=5)\n",
        "    x= tfidf_movies_genres_matrix\n",
        "    y = movies_df.iloc[:,-1]\n",
        "    classifier.fit(x, y)\n",
        "    y_pred = classifier.predict(tfidf_movies_genres_matrix[movie_id])\n",
        "    return y_pred"
      ],
      "metadata": {
        "id": "JYVlY9fNNuzj"
      },
      "execution_count": null,
      "outputs": []
    },
    {
      "cell_type": "markdown",
      "source": [
        "This code defines a function `evaluate_content_based_model()` which is used to evaluate the performance of the content-based movie recommendation system based on movie genres. It iterates over each movie in the movies dataframe and generates a list of recommended movies by calling the `get_recommendations_based_on_genres()` function for each movie. It then predicts the genre label for each recommended movie by calling the `get_movie_label()` function and compares it with the actual genre label of the movie. The number of correct and incorrect predictions are accumulated and the hit rate and fault rate are computed and printed at the end."
      ],
      "metadata": {
        "id": "pyYyvZRE7qKZ"
      }
    },
    {
      "cell_type": "code",
      "source": [
        "true_count = 0\n",
        "false_count = 0\n",
        "def evaluate_content_based_model():\n",
        "    for key, colums in movies_df.iterrows():\n",
        "        movies_recommended_by_model = get_recommendations_based_on_genres(colums[\"title\"])\n",
        "        predicted_genres  = get_movie_label(movies_recommended_by_model.index)\n",
        "        for predicted_genre in predicted_genres:\n",
        "            global true_count, false_count\n",
        "            if predicted_genre == colums[\"genres\"]:\n",
        "                true_count = true_count+1\n",
        "            else:\n",
        "                false_count = false_count +1\n",
        "evaluate_content_based_model()\n",
        "total = true_count + false_count\n",
        "print(\"Hit:\"+ str(true_count/total))\n",
        "print(\"Fault:\" + str(false_count/total))"
      ],
      "metadata": {
        "id": "MToTMXCPNwbH"
      },
      "execution_count": null,
      "outputs": []
    },
    {
      "cell_type": "markdown",
      "source": [
        "# Collaborative Filtering"
      ],
      "metadata": {
        "id": "xbfSMPy-Nyk_"
      }
    },
    {
      "cell_type": "markdown",
      "source": [
        "## Item-Item Filtering"
      ],
      "metadata": {
        "id": "lYg3JmcQN2NS"
      }
    },
    {
      "cell_type": "code",
      "source": [
        "df_movies_ratings=pd.merge(movies_df, rating_df)"
      ],
      "metadata": {
        "id": "0HmnF0HDN3yP"
      },
      "execution_count": null,
      "outputs": []
    },
    {
      "cell_type": "code",
      "source": [
        "df_movies_ratings.head()"
      ],
      "metadata": {
        "id": "BEUSumPWOEvv"
      },
      "execution_count": null,
      "outputs": []
    },
    {
      "cell_type": "markdown",
      "source": [
        "This code creates a pivot table `ratings_matrix_items` from the `df_movies_ratings` dataframe, where each row corresponds to a unique movieId, each column corresponds to a unique userId, and the values are the corresponding ratings. The resulting table is transposed and then any missing values (NaN) are filled with 0, resulting in a matrix of shape (number of movies, number of users)."
      ],
      "metadata": {
        "id": "uVNzT9Hm8Rby"
      }
    },
    {
      "cell_type": "code",
      "source": [
        "ratings_matrix_items = df_movies_ratings.pivot_table(index=['movieId'],columns=['userId'],values='rating').reset_index(drop=True)\n",
        "ratings_matrix_items.fillna( 0, inplace = True )\n",
        "ratings_matrix_items.shape"
      ],
      "metadata": {
        "id": "LbP-QlS6OGXk"
      },
      "execution_count": null,
      "outputs": []
    },
    {
      "cell_type": "markdown",
      "source": [
        "The `ratings_matrix_items` dataframe is a pivot table of the `df_movies_ratings` dataframe, with movie ids as the index, user ids as the columns, and rating values as the values. Any missing values are filled with 0. The resulting dataframe has 9724 rows (corresponding to unique movie ids) and 610 columns (corresponding to unique user ids)."
      ],
      "metadata": {
        "id": "rzbfxqQe8bZc"
      }
    },
    {
      "cell_type": "code",
      "source": [
        "ratings_matrix_items.head()"
      ],
      "metadata": {
        "id": "uERJ2P29OHO-"
      },
      "execution_count": null,
      "outputs": []
    },
    {
      "cell_type": "markdown",
      "source": [
        "In this code, the similarity between the movies is calculated based on their user ratings. The pairwise distances between the movies are calculated using the cosine similarity metric, and the diagonal is set to 0 as it represents the similarity of a movie with itself. The resulting similarity matrix is then converted into a pandas DataFrame for better handling."
      ],
      "metadata": {
        "id": "NnXnUir98c2a"
      }
    },
    {
      "cell_type": "code",
      "source": [
        "movie_similarity = 1 - pairwise_distances( ratings_matrix_items.values, metric=\"cosine\" )\n",
        "np.fill_diagonal( movie_similarity, 0 ) \n",
        "ratings_matrix_items = pd.DataFrame( movie_similarity )\n",
        "ratings_matrix_items.head()"
      ],
      "metadata": {
        "id": "zts6rC12OIei"
      },
      "execution_count": null,
      "outputs": []
    },
    {
      "cell_type": "markdown",
      "source": [
        "This function takes in a movie name as input, and tries to find the movie in the `movies_df` dataframe. It then uses the precomputed `ratings_matrix_items` matrix to calculate the similarity between the input movie and all other movies in the dataframe. The similarity scores are stored in a new column called 'similarity' in the `movies_df` dataframe. If the input movie is not found in the dataframe, it prints a message saying \"Sorry, the movie is not in the database!\" but it doesn't return any value."
      ],
      "metadata": {
        "id": "Oaq5xcPf8iID"
      }
    },
    {
      "cell_type": "code",
      "source": [
        "def item_similarity(movieName): \n",
        "    try:\n",
        "        user_inp=movieName\n",
        "        inp=movies_df[movies_df['title']==user_inp].index.tolist()\n",
        "        inp=inp[0]\n",
        "\n",
        "        movies_df['similarity'] = ratings_matrix_items.iloc[inp]\n",
        "        movies_df.columns = ['movie_id', 'title', 'release_date','similarity']\n",
        "    except:\n",
        "        print(\"Sorry, the movie is not in the database!\")"
      ],
      "metadata": {
        "id": "7gV4lGDbOKwU"
      },
      "execution_count": null,
      "outputs": []
    },
    {
      "cell_type": "markdown",
      "source": [
        "This is a function that takes a user_id as input and returns a list of recommended movieIds based on item-item similarity of the movies previously rated by the user. \n",
        "\n",
        "The function starts by extracting movies rated with a 5 or 4.5 rating by the user. Then, it calls the item_similarity() function to find similar movies based on cosine similarity. The movies are sorted in descending order based on the similarity score, and movies with a similarity score greater than or equal to 0.45 are selected.\n",
        "\n",
        "Next, the function creates a dataframe of recommended items that the user hasn't rated before, and selects the top 10 movies based on their rating. Finally, the function returns a list of the movieIds of these top 10 recommended movies."
      ],
      "metadata": {
        "id": "_k5Kjhe-8rWd"
      }
    },
    {
      "cell_type": "code",
      "source": [
        "def recommendedMoviesAsperItemSimilarity(user_id):\n",
        "    user_movie= df_movies_ratings[(df_movies_ratings.userId==user_id) & df_movies_ratings.rating.isin([5,4.5])][['title']]\n",
        "    user_movie=user_movie.iloc[0,0]\n",
        "    item_similarity(user_movie)\n",
        "    sorted_movies_as_per_userChoice=movies_df.sort_values( [\"similarity\"], ascending = False )\n",
        "    sorted_movies_as_per_userChoice=sorted_movies_as_per_userChoice[sorted_movies_as_per_userChoice['similarity'] >=0.45]['movie_id']\n",
        "    recommended_movies=list()\n",
        "    df_recommended_item=pd.DataFrame()\n",
        "    user2Movies= rating_df[rating_df['userId']== user_id]['movieId']\n",
        "    for movieId in sorted_movies_as_per_userChoice:\n",
        "            if movieId not in user2Movies:\n",
        "                df_new= rating_df[(rating_df.movieId==movieId)]\n",
        "                df_recommended_item=pd.concat([df_recommended_item,df_new])\n",
        "            best10=df_recommended_item.sort_values([\"rating\"], ascending = False )[1:10] \n",
        "    return best10['movieId']"
      ],
      "metadata": {
        "id": "nFiovbOKOL6s"
      },
      "execution_count": null,
      "outputs": []
    },
    {
      "cell_type": "markdown",
      "source": [
        "This function takes a list of movie IDs as input and returns a list of movie titles corresponding to the given IDs."
      ],
      "metadata": {
        "id": "Tm6gGs2X8yQM"
      }
    },
    {
      "cell_type": "code",
      "source": [
        "def movieIdToTitle(listMovieIDs):\n",
        "    movie_titles= list()\n",
        "    for id in listMovieIDs:\n",
        "        movie_titles.append(movies_df[movies_df['movie_id']==id]['title'])\n",
        "    return movie_titles"
      ],
      "metadata": {
        "id": "AikTjXsGONw1"
      },
      "execution_count": null,
      "outputs": []
    },
    {
      "cell_type": "markdown",
      "source": [
        "The function recommendedMoviesAsperItemSimilarity takes a user ID as input and recommends 10 movies to that user based on item similarity. The function movieIdToTitle converts the list of recommended movie IDs to their corresponding titles."
      ],
      "metadata": {
        "id": "dudf0QGf834Z"
      }
    },
    {
      "cell_type": "code",
      "source": [
        "user_id=50\n",
        "print(\"Recommended movies,:\\n\",movieIdToTitle(recommendedMoviesAsperItemSimilarity(user_id)))"
      ],
      "metadata": {
        "id": "-2ANk2aVOPTs"
      },
      "execution_count": null,
      "outputs": []
    },
    {
      "cell_type": "markdown",
      "source": [
        "# User-Item Filtering"
      ],
      "metadata": {
        "id": "AoiEX8GnORL9"
      }
    },
    {
      "cell_type": "markdown",
      "source": [
        "code computes the user-user similarity matrix using the cosine similarity metric. It first creates a pivot table ratings_matrix_users from the df_movies_ratings dataframe with the rows as unique userId values, columns as unique movieId values, and the cells filled with the corresponding rating values. It then fills any missing values with zero using the fillna() method. Next, it computes the cosine similarity matrix between users using the pairwise_distances() function from the sklearn.metrics module and subtracting the result from 1. The diagonal elements of the similarity matrix are then set to zero using np.fill_diagonal() to avoid self-similarity. Finally, the similarity matrix is stored in a pandas dataframe called ratings_matrix_users."
      ],
      "metadata": {
        "id": "oZEWeG4E9QTl"
      }
    },
    {
      "cell_type": "code",
      "source": [
        "ratings_matrix_users = df_movies_ratings.pivot_table(index=['userId'],columns=['movieId'],values='rating').reset_index(drop=True)\n",
        "ratings_matrix_users.fillna( 0, inplace = True )\n",
        "movie_similarity = 1 - pairwise_distances( ratings_matrix_users.values, metric=\"cosine\" )\n",
        "np.fill_diagonal( movie_similarity, 0 ) \n",
        "ratings_matrix_users = pd.DataFrame( movie_similarity )\n",
        "ratings_matrix_users.head()"
      ],
      "metadata": {
        "id": "K7Dy8EyTOSfp"
      },
      "execution_count": null,
      "outputs": []
    },
    {
      "cell_type": "markdown",
      "source": [
        "The code `ratings_matrix_users.idxmax(axis=1)` returns the index of the movie (i.e. column) that has the highest similarity with each movie (i.e. row) in the user-item ratings matrix. In other words, it returns a Series object where each row represents a user and the value in that row is the index of the movie that is most similar to the movies that the user has rated. This can be used to make recommendations to users based on similar users' preferences."
      ],
      "metadata": {
        "id": "kSfixjx49Wt-"
      }
    },
    {
      "cell_type": "code",
      "source": [
        "ratings_matrix_users.idxmax(axis=1)"
      ],
      "metadata": {
        "id": "xMjxJYkTOUNK"
      },
      "execution_count": null,
      "outputs": []
    },
    {
      "cell_type": "markdown",
      "source": [
        "This code selects 10 random rows from the `ratings_matrix_users` DataFrame and returns the index (i.e. userId) of the highest rated movie for each row. The `random_state` parameter is set to 10 to ensure that the same random rows are selected each time the code is run."
      ],
      "metadata": {
        "id": "W_cCm55u9Xl2"
      }
    },
    {
      "cell_type": "code",
      "source": [
        "ratings_matrix_users.idxmax(axis=1).sample( 10, random_state = 10 )"
      ],
      "metadata": {
        "id": "npfQOYDvOVuF"
      },
      "execution_count": null,
      "outputs": []
    },
    {
      "cell_type": "markdown",
      "source": [
        "The code creates a Pandas DataFrame (`df_similar_user`) from a Pandas Series (`similar_user_series`) that contains the user ID of the most similar user for each user in the ratings matrix (`ratings_matrix_users`). The `idxmax()` method is used to find the index (i.e., the user ID) of the maximum value in each row of the ratings matrix, which corresponds to the most similar user for that user. The resulting Pandas Series is then converted to a DataFrame using the `to_frame()` method."
      ],
      "metadata": {
        "id": "YtzJ_LZX9dsd"
      }
    },
    {
      "cell_type": "code",
      "source": [
        "similar_user_series= ratings_matrix_users.idxmax(axis=1)\n",
        "df_similar_user= similar_user_series.to_frame()"
      ],
      "metadata": {
        "id": "P4MtCyBHOW0d"
      },
      "execution_count": null,
      "outputs": []
    },
    {
      "cell_type": "markdown",
      "source": [],
      "metadata": {
        "id": "SdWss96s9en2"
      }
    },
    {
      "cell_type": "markdown",
      "source": [
        "This code assigns the name 'similarUser' to the only column in the DataFrame `df_similar_user`. Specifically, it does this by setting the DataFrame column names attribute `df_similar_user.columns` to a list containing a single string element, which is 'similarUser'."
      ],
      "metadata": {
        "id": "ZNwBfuWw9iSx"
      }
    },
    {
      "cell_type": "code",
      "source": [
        "df_similar_user.columns=['similarUser']"
      ],
      "metadata": {
        "id": "jmDf85tbOXwh"
      },
      "execution_count": null,
      "outputs": []
    },
    {
      "cell_type": "markdown",
      "source": [
        "The `df_similar_user` DataFrame has one column named `similarUser`, which contains the user ID of the most similar user for each user in the `ratings_matrix_users` DataFrame."
      ],
      "metadata": {
        "id": "R2CsctiT9jYk"
      }
    },
    {
      "cell_type": "code",
      "source": [
        "df_similar_user.head()"
      ],
      "metadata": {
        "id": "ocJF80mBOYzT"
      },
      "execution_count": null,
      "outputs": []
    },
    {
      "cell_type": "markdown",
      "source": [],
      "metadata": {
        "id": "7-bOta-T9n5D"
      }
    },
    {
      "cell_type": "markdown",
      "source": [
        "The function `getRecommendedMoviesAsperUserSimilarity` takes a `userId` as input and returns a list of recommended movies based on user similarity. It first extracts all the movies watched by the user and then finds the most similar user based on their movie preferences. Using this similar user, it then recommends movies that the similar user has watched but the original user has not watched yet. The function returns a list of recommended movie IDs."
      ],
      "metadata": {
        "id": "NYa1GHjM9sVO"
      }
    },
    {
      "cell_type": "code",
      "source": [
        "movieId_recommended=list()\n",
        "def getRecommendedMoviesAsperUserSimilarity(userId):\n",
        "    user2Movies= rating_df[rating_df['userId']== userId]['movieId']\n",
        "    sim_user=df_similar_user.iloc[0,0]\n",
        "    df_recommended=pd.DataFrame(columns=['movieId','title','genres','userId','rating','timestamp'])\n",
        "    for movieId in rating_df[rating_df['userId']== sim_user]['movieId']:\n",
        "        if movieId not in user2Movies:\n",
        "            df_new= df_movies_ratings[(df_movies_ratings.userId==sim_user) & (df_movies_ratings.movieId==movieId)]\n",
        "            df_recommended=pd.concat([df_recommended,df_new])\n",
        "        best10=df_recommended.sort_values(['rating'], ascending = False )[1:10]  \n",
        "    return best10['movieId']"
      ],
      "metadata": {
        "id": "snT-RHYbOaAr"
      },
      "execution_count": null,
      "outputs": []
    },
    {
      "cell_type": "markdown",
      "source": [
        " code provided performs movie recommendation using two methods - item similarity and user similarity. The item similarity approach recommends movies based on the similarity between items (movies) themselves, while the user similarity approach recommends movies based on the similarity between users' preferences. The code uses collaborative filtering to identify similar users and movies, and then recommends movies that are highly rated by similar users or similar to highly-rated movies by the user. The code makes use of Pandas and NumPy libraries for data manipulation, and the scikit-learn library for pairwise distance calculation."
      ],
      "metadata": {
        "id": "IOskGQUC9w_Z"
      }
    },
    {
      "cell_type": "code",
      "source": [
        "user_id=50\n",
        "recommend_movies= movieIdToTitle(getRecommendedMoviesAsperUserSimilarity(user_id))\n",
        "print(\"Movies you should watch are:\\n\")\n",
        "print(recommend_movies)"
      ],
      "metadata": {
        "id": "zc1AF--3ObZ_"
      },
      "execution_count": null,
      "outputs": []
    },
    {
      "cell_type": "markdown",
      "source": [
        "function takes in two user IDs as input and returns the list of movies that both users have rated. It does so by merging the dataframes of both users, keeping only the movies that appear in both dataframes. The function drops unnecessary columns and returns the resulting dataframe containing the user IDs, movie titles, and ratings."
      ],
      "metadata": {
        "id": "5efiNDM5-Pki"
      }
    },
    {
      "cell_type": "code",
      "source": [
        "def get_user_similar_movies( user1, user2 ):\n",
        "    common_movies = df_movies_ratings[df_movies_ratings.userId == user1].merge(\n",
        "      df_movies_ratings[df_movies_ratings.userId == user2],\n",
        "      on = \"movieId\",\n",
        "      how = \"inner\" )\n",
        "    common_movies.drop(['movieId','genres_x','genres_y', 'timestamp_x','timestamp_y','title_y'],axis=1,inplace=True)\n",
        "    return common_movies"
      ],
      "metadata": {
        "id": "RPqcpJIhOdBV"
      },
      "execution_count": null,
      "outputs": []
    },
    {
      "cell_type": "code",
      "source": [
        "get_user_similar_movies(587,511)"
      ],
      "metadata": {
        "id": "wTl-JW0ZOeNH"
      },
      "execution_count": null,
      "outputs": []
    }
  ]
}